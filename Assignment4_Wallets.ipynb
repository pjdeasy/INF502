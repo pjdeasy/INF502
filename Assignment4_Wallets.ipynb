{
 "cells": [
  {
   "cell_type": "code",
   "execution_count": 2,
   "metadata": {},
   "outputs": [
    {
     "name": "stdout",
     "output_type": "stream",
     "text": [
      "Please enter wallet 1 amount: 5\n",
      "Please enter wallet 2 amount: 4\n",
      "Please enter wallet 3 amount: 1\n",
      "Please enter wallet 4 amount: 5\n",
      "Please enter wallet 5 amount: 4\n",
      "The amounts you entered were  5 4 1 5 4\n"
     ]
    }
   ],
   "source": [
    "# We have 5 wallets and ask for a user to input the amount in each one\n",
    "# Then, the amounts are printed for verification\n",
    "wallet1=int(input(\"Please enter wallet 1 amount: \"))\n",
    "wallet2=int(input(\"Please enter wallet 2 amount: \"))\n",
    "wallet3=int(input(\"Please enter wallet 3 amount: \"))\n",
    "wallet4=int(input(\"Please enter wallet 4 amount: \"))\n",
    "wallet5=int(input(\"Please enter wallet 5 amount: \"))\n",
    "print(\"The amounts you entered were \", wallet1 , wallet2, wallet3, wallet4, wallet5)"
   ]
  },
  {
   "cell_type": "code",
   "execution_count": 3,
   "metadata": {},
   "outputs": [
    {
     "name": "stdout",
     "output_type": "stream",
     "text": [
      "The fattest wallet has $5 in it\n"
     ]
    }
   ],
   "source": [
    "# The amounts are then collected into a single list\n",
    "wallets=[wallet1, wallet2, wallet3, wallet4, wallet5]\n",
    "#The maximum of the list is then taken and printed\n",
    "fatwallet=max(wallets)\n",
    "print('The fattest wallet has $' + str(fatwallet) + ' in it.')"
   ]
  },
  {
   "cell_type": "code",
   "execution_count": 4,
   "metadata": {},
   "outputs": [
    {
     "name": "stdout",
     "output_type": "stream",
     "text": [
      "The skinniest wallet has $1 in it\n"
     ]
    }
   ],
   "source": [
    "thinwallet=min(wallets)\n",
    "print('The skinniest wallet has $' + str(thinwallet) + ' in it')"
   ]
  },
  {
   "cell_type": "code",
   "execution_count": 5,
   "metadata": {},
   "outputs": [
    {
     "name": "stdout",
     "output_type": "stream",
     "text": [
      "All together, these wallets have $19 in them\n"
     ]
    }
   ],
   "source": [
    "sumwallet=sum(wallets)\n",
    "print('All together, these wallets have $' + str(sumwallet) + ' in them')"
   ]
  },
  {
   "cell_type": "code",
   "execution_count": 6,
   "metadata": {},
   "outputs": [
    {
     "name": "stdout",
     "output_type": "stream",
     "text": [
      "All together, the total value of these wallets is worth 190 dimes\n"
     ]
    }
   ],
   "source": [
    "dimewallet=sum(wallets)*10\n",
    "print('All together, the total value of these wallets is worth ' + str(dimewallet) + \" dimes\")"
   ]
  }
 ],
 "metadata": {
  "kernelspec": {
   "display_name": "Python 3",
   "language": "python",
   "name": "python3"
  },
  "language_info": {
   "codemirror_mode": {
    "name": "ipython",
    "version": 3
   },
   "file_extension": ".py",
   "mimetype": "text/x-python",
   "name": "python",
   "nbconvert_exporter": "python",
   "pygments_lexer": "ipython3",
   "version": "3.7.3"
  }
 },
 "nbformat": 4,
 "nbformat_minor": 2
}
